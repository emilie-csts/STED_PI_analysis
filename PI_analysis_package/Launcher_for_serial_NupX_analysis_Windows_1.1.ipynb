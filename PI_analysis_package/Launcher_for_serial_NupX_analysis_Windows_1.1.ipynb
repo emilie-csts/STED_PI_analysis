{
 "cells": [
  {
   "cell_type": "markdown",
   "id": "6adc24bc-b636-4f7b-be20-93bc5b2792f2",
   "metadata": {},
   "source": [
    "# Launcher\n",
    "\n",
    "This code allows to lauch the tif data and create a folder to save result datas. \n",
    "\n",
    "2023/11/09: it works on Windows after minor modifications \n"
   ]
  },
  {
   "cell_type": "code",
   "execution_count": 1,
   "id": "4d702141-1326-4727-bb91-dbf744706e86",
   "metadata": {},
   "outputs": [],
   "source": [
    "import os\n",
    "import glob\n",
    "from tkinter.filedialog import askdirectory\n",
    "import numpy as np"
   ]
  },
  {
   "cell_type": "code",
   "execution_count": 2,
   "id": "78ef0396-a01c-45e6-92dc-3c5c30eb23fc",
   "metadata": {},
   "outputs": [
    {
     "name": "stdout",
     "output_type": "stream",
     "text": [
      "C:/Users/Emilie/Documents/Data/STED/220819/tif_data\n",
      "C:/Users/Emilie/Documents/Data/STED/220819/output_data\n"
     ]
    }
   ],
   "source": [
    "#Choose the data folder\n",
    "dirpath = askdirectory(title='Choose your data folder...',initialdir=\"C:/Users/Emilie/Documents/Data/STED/\")  # directory path\n",
    "print(dirpath)\n",
    "outputfolder = askdirectory(title='Choose the folder to save your results...',initialdir='C:/Users/Emilie/Documents/Data/STED/')\n",
    "print(outputfolder)\n",
    "\n"
   ]
  },
  {
   "cell_type": "code",
   "execution_count": 4,
   "id": "ed584fa9",
   "metadata": {},
   "outputs": [
    {
     "name": "stdout",
     "output_type": "stream",
     "text": [
      "now = 2023-11-17 09:55:17.724343\n",
      "date and time = 20231117_09-55\n",
      "C:/Users/Emilie/Documents/Data/STED/220819/output_data/20231117_09-55\n"
     ]
    }
   ],
   "source": [
    "## Set the date\n",
    "from datetime import datetime\n",
    "\n",
    "# datetime object containing current date and time\n",
    "now = datetime.now()\n",
    " \n",
    "print(\"now =\", now)\n",
    "\n",
    "# dd/mm/YY H:M:S\n",
    "date = now.strftime(\"%Y%m%d_%H-%M\") # I modified the way we have the hour \n",
    "print(\"date and time =\", date)\t\n",
    "outputpathdate = outputfolder+'/'+date\n",
    "print(outputpathdate)\n",
    "os.mkdir(outputpathdate)"
   ]
  },
  {
   "cell_type": "code",
   "execution_count": 13,
   "id": "a1ee860e",
   "metadata": {},
   "outputs": [
    {
     "name": "stdout",
     "output_type": "stream",
     "text": [
      "['C:/Users/Emilie/Documents/Data/STED/220819/tif_data\\\\220819_Nup96_1']\n"
     ]
    }
   ],
   "source": [
    "## Choose to analyze the whole set of data or just one\n",
    "allimgs = False  # parameter to check if you want to loop through all imgs or just analyse one\n",
    "\n",
    "## Load images paths\n",
    "if allimgs:\n",
    "    files = glob.glob(os.path.join(dirpath, '*[0-9].tif'))\n",
    "    \n",
    "else:\n",
    "    files = [os.path.join(dirpath, '220819_Nup96_1')]\n",
    "# this path has to be changed depending on the file --> to be modified\n",
    "\n",
    "print(files)"
   ]
  },
  {
   "cell_type": "code",
   "execution_count": 16,
   "id": "692490dd",
   "metadata": {},
   "outputs": [
    {
     "name": "stdout",
     "output_type": "stream",
     "text": [
      "['220819_Nup96_1']\n"
     ]
    }
   ],
   "source": [
    "names=[]\n",
    "for filepath in files:\n",
    "    imgname = filepath.split('\\\\')[-1].split('.')[0] # I had to modify the way we split the name of the doc --> it is diff on windows\n",
    "    names.append(imgname)\n",
    "\n",
    "unique_files=np.unique(names)\n",
    "print(unique_files)"
   ]
  },
  {
   "cell_type": "code",
   "execution_count": 17,
   "id": "ea25e2e0",
   "metadata": {},
   "outputs": [
    {
     "name": "stdout",
     "output_type": "stream",
     "text": [
      "image name =  220819_Nup96_1\n",
      "NupX =  Nup96\n",
      "Outputtpath =  C:/Users/Emilie/Documents/Data/STED/220819/output_data/20231117_09-55/220819_Nup96_1\n"
     ]
    }
   ],
   "source": [
    "for imgname in unique_files:\n",
    "    print('image name = ',imgname)\n",
    "    NupX_name = imgname.split('_')[1]\n",
    "    print('NupX = ',NupX_name)\n",
    "    outputpath = outputpathdate+'/'+imgname\n",
    "    print('Outputtpath = ',outputpath)\n",
    "    os.mkdir(outputpath)"
   ]
  },
  {
   "cell_type": "code",
   "execution_count": 18,
   "id": "0773b44f",
   "metadata": {},
   "outputs": [
    {
     "name": "stdout",
     "output_type": "stream",
     "text": [
      "Image name: 220819_Nup96_1\n",
      "NupX: Nup96\n",
      "Output path: C:/Users/Emilie/Documents/Data/STED/220819/output_data/20231117_09-55\\220819_Nup96_1\n"
     ]
    }
   ],
   "source": [
    "# Iterate through unique image file names\n",
    "for imgname in unique_files:\n",
    "    print('Image name:', imgname)\n",
    "    \n",
    "    # Extract NupX name from image name\n",
    "    NupX_name = imgname.split('_')[1]\n",
    "    print('NupX:', NupX_name)\n",
    "    \n",
    "    # Create output directory for the current image\n",
    "    outputpath = os.path.join(outputpathdate, imgname)\n",
    "    print('Output path:', outputpath)\n",
    "    \n",
    "    # File paths for mAB, POM, and NupX images\n",
    "    mABpath = os.path.join(dirpath, '_414' + '.tif')  \n",
    "    POMpath = os.path.join(dirpath, '_POM'  + '.tif')\n",
    "    NupXpath = os.path.join(dirpath, '_nanoGFP'  + '.tif')"
   ]
  },
  {
   "cell_type": "code",
   "execution_count": 20,
   "id": "f83aab4b",
   "metadata": {},
   "outputs": [
    {
     "name": "stdout",
     "output_type": "stream",
     "text": [
      "C:/Users/Emilie/Documents/Data/STED/220819/tif_data\\_414.tif\n",
      "C:/Users/Emilie/Documents/Data/STED/220819/tif_data\\_POM.tif\n",
      "C:/Users/Emilie/Documents/Data/STED/220819/tif_data\\_nanoGFP.tif\n"
     ]
    }
   ],
   "source": [
    "print(mABpath)\n",
    "print(POMpath)\n",
    "print(NupXpath)"
   ]
  },
  {
   "cell_type": "code",
   "execution_count": 35,
   "id": "e41aed3d-2f3b-4efe-9208-6d6eec40c44e",
   "metadata": {
    "scrolled": true
   },
   "outputs": [
    {
     "name": "stdout",
     "output_type": "stream",
     "text": [
      "Image name: msr_414\n",
      "NupX: 414\n",
      "Output path: C:/Users/Emilie/Documents/Data/STED/Test_file/output_data/20231109_08-14\\msr_414\n",
      "Image name: msr_Nup96\n",
      "NupX: Nup96\n",
      "Output path: C:/Users/Emilie/Documents/Data/STED/Test_file/output_data/20231109_08-14\\msr_Nup96\n",
      "Image name: msr_POM\n",
      "NupX: POM\n",
      "Output path: C:/Users/Emilie/Documents/Data/STED/Test_file/output_data/20231109_08-14\\msr_POM\n"
     ]
    }
   ],
   "source": []
  },
  {
   "cell_type": "raw",
   "id": "f79f6ff5-de47-4de6-a17d-0757f3faad6a",
   "metadata": {},
   "source": [
    "print(POM_profiles)"
   ]
  },
  {
   "cell_type": "code",
   "execution_count": 5,
   "id": "2b17eb01-96de-4f80-a811-339f298814ad",
   "metadata": {},
   "outputs": [
    {
     "data": {
      "text/plain": [
       "'C:/Users/Emilie/Documents/Data/STED/Test_file/Tif_raw_data\\\\_414.tif'"
      ]
     },
     "execution_count": 5,
     "metadata": {},
     "output_type": "execute_result"
    }
   ],
   "source": [
    "mABpath\n"
   ]
  },
  {
   "cell_type": "code",
   "execution_count": 6,
   "id": "2ba7acaa-1ec9-45c3-b19b-3824fa282a0a",
   "metadata": {},
   "outputs": [
    {
     "data": {
      "text/plain": [
       "'C:/Users/Emilie/Documents/Data/STED/Test_file/Tif_raw_data\\\\_POM.tif'"
      ]
     },
     "execution_count": 6,
     "metadata": {},
     "output_type": "execute_result"
    }
   ],
   "source": [
    "POMpath"
   ]
  },
  {
   "cell_type": "code",
   "execution_count": 7,
   "id": "e17a60d2-1a52-4608-aefd-4d73894286eb",
   "metadata": {},
   "outputs": [
    {
     "data": {
      "text/plain": [
       "'C:/Users/Emilie/Documents/Data/STED/Test_file/Tif_raw_data\\\\_nanoGFP.tif'"
      ]
     },
     "execution_count": 7,
     "metadata": {},
     "output_type": "execute_result"
    }
   ],
   "source": [
    "NupXpath"
   ]
  },
  {
   "cell_type": "code",
   "execution_count": null,
   "id": "cb5afb64-1028-4339-9505-0543331b4d7c",
   "metadata": {},
   "outputs": [],
   "source": []
  }
 ],
 "metadata": {
  "kernelspec": {
   "display_name": "Python 3 (ipykernel)",
   "language": "python",
   "name": "python3"
  },
  "language_info": {
   "codemirror_mode": {
    "name": "ipython",
    "version": 3
   },
   "file_extension": ".py",
   "mimetype": "text/x-python",
   "name": "python",
   "nbconvert_exporter": "python",
   "pygments_lexer": "ipython3",
   "version": "3.11.5"
  }
 },
 "nbformat": 4,
 "nbformat_minor": 5
}
