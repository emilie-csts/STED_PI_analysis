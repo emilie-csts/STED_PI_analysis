{
 "cells": [
  {
   "cell_type": "code",
   "execution_count": 5,
   "id": "af44b19f",
   "metadata": {},
   "outputs": [
    {
     "name": "stderr",
     "output_type": "stream",
     "text": [
      "ERROR: Could not find a version that satisfies the requirement ut.ml (from versions: none)\n",
      "ERROR: No matching distribution found for ut.ml\n"
     ]
    }
   ],
   "source": [
    "import sys\n",
    "#!{sys.executable} -m pip install ij\n",
    "#!{sys.executable} -m pip install ut\n",
    "!{sys.executable} -m pip install ut.ml"
   ]
  },
  {
   "cell_type": "code",
   "execution_count": 6,
   "id": "4d6aa97e",
   "metadata": {},
   "outputs": [],
   "source": [
    "from PIL import Image\n",
    "import os"
   ]
  },
  {
   "cell_type": "code",
   "execution_count": 7,
   "id": "f543f531",
   "metadata": {},
   "outputs": [
    {
     "name": "stdout",
     "output_type": "stream",
     "text": [
      "IF_Cells_U20S_fixed_Nup96-GFP_POM121(200)-Star460L_mAb414(500)-Star580_Nup96(X4-200)-Star635P-1.msr\n"
     ]
    },
    {
     "ename": "FileNotFoundError",
     "evalue": "[Errno 2] No such file or directory: 'C:/Users/Emilie/Documents/Data/STED/Test_file_2/IF_Cells_U20S_fixed_Nup96-GFP_POM121(200)-Star460L_mAb414(500)-Star580_Nup96(X4-200)-Star635P-1.msr - STAR 635P_STED {26}'",
     "output_type": "error",
     "traceback": [
      "\u001b[1;31m---------------------------------------------------------------------------\u001b[0m",
      "\u001b[1;31mFileNotFoundError\u001b[0m                         Traceback (most recent call last)",
      "Cell \u001b[1;32mIn[7], line 8\u001b[0m\n\u001b[0;32m      5\u001b[0m \u001b[38;5;28mprint\u001b[39m(name)\n\u001b[0;32m      7\u001b[0m \u001b[38;5;66;03m# Open the images\u001b[39;00m\n\u001b[1;32m----> 8\u001b[0m img_635P \u001b[38;5;241m=\u001b[39m Image\u001b[38;5;241m.\u001b[39mopen(os\u001b[38;5;241m.\u001b[39mpath\u001b[38;5;241m.\u001b[39mjoin(folder, name \u001b[38;5;241m+\u001b[39m \u001b[38;5;124m\"\u001b[39m\u001b[38;5;124m - STAR 635P_STED \u001b[39m\u001b[38;5;132;01m{26}\u001b[39;00m\u001b[38;5;124m\"\u001b[39m))\n\u001b[0;32m      9\u001b[0m img_580 \u001b[38;5;241m=\u001b[39m Image\u001b[38;5;241m.\u001b[39mopen(os\u001b[38;5;241m.\u001b[39mpath\u001b[38;5;241m.\u001b[39mjoin(folder, name \u001b[38;5;241m+\u001b[39m \u001b[38;5;124m\"\u001b[39m\u001b[38;5;124m - STAR 580_STED \u001b[39m\u001b[38;5;132;01m{26}\u001b[39;00m\u001b[38;5;124m\"\u001b[39m))\n\u001b[0;32m     10\u001b[0m img_460L \u001b[38;5;241m=\u001b[39m Image\u001b[38;5;241m.\u001b[39mopen(os\u001b[38;5;241m.\u001b[39mpath\u001b[38;5;241m.\u001b[39mjoin(folder, name \u001b[38;5;241m+\u001b[39m \u001b[38;5;124m\"\u001b[39m\u001b[38;5;124m - STAR 460L_STED \u001b[39m\u001b[38;5;132;01m{26}\u001b[39;00m\u001b[38;5;124m\"\u001b[39m))\n",
      "File \u001b[1;32m~\\anaconda3\\Lib\\site-packages\\PIL\\Image.py:3227\u001b[0m, in \u001b[0;36mopen\u001b[1;34m(fp, mode, formats)\u001b[0m\n\u001b[0;32m   3224\u001b[0m     filename \u001b[38;5;241m=\u001b[39m fp\n\u001b[0;32m   3226\u001b[0m \u001b[38;5;28;01mif\u001b[39;00m filename:\n\u001b[1;32m-> 3227\u001b[0m     fp \u001b[38;5;241m=\u001b[39m builtins\u001b[38;5;241m.\u001b[39mopen(filename, \u001b[38;5;124m\"\u001b[39m\u001b[38;5;124mrb\u001b[39m\u001b[38;5;124m\"\u001b[39m)\n\u001b[0;32m   3228\u001b[0m     exclusive_fp \u001b[38;5;241m=\u001b[39m \u001b[38;5;28;01mTrue\u001b[39;00m\n\u001b[0;32m   3230\u001b[0m \u001b[38;5;28;01mtry\u001b[39;00m:\n",
      "\u001b[1;31mFileNotFoundError\u001b[0m: [Errno 2] No such file or directory: 'C:/Users/Emilie/Documents/Data/STED/Test_file_2/IF_Cells_U20S_fixed_Nup96-GFP_POM121(200)-Star460L_mAb414(500)-Star580_Nup96(X4-200)-Star635P-1.msr - STAR 635P_STED {26}'"
     ]
    }
   ],
   "source": [
    "folder = \"C:/Users/Emilie/Documents/Data/STED/Test_file_2/\"\n",
    "names = os.listdir(folder)\n",
    "\n",
    "for name in names:\n",
    "    print(name)\n",
    "    \n",
    "    # Open the images\n",
    "    img_635P = Image.open(os.path.join(folder, name + \" - STAR 635P_STED {26}\"))\n",
    "    img_580 = Image.open(os.path.join(folder, name + \" - STAR 580_STED {26}\"))\n",
    "    img_460L = Image.open(os.path.join(folder, name + \" - STAR 460L_STED {26}\"))\n",
    "    \n",
    "    # Save the images with modified names\n",
    "    img_635P.save(os.path.join(folder, name + \"_POM.tif\"))\n",
    "    img_580.save(os.path.join(folder, name + \"_414.tif\"))\n",
    "    img_460L.save(os.path.join(folder, name + \"_nanoGFP.tif\"))\n",
    "    \n",
    "    # Close the images\n",
    "    img_635P.close()\n",
    "    img_580.close()\n",
    "    img_460L.close()\n",
    "\n",
    "print(\"All images processed and saved.\")"
   ]
  },
  {
   "cell_type": "code",
   "execution_count": null,
   "id": "23a28f68",
   "metadata": {},
   "outputs": [],
   "source": []
  }
 ],
 "metadata": {
  "kernelspec": {
   "display_name": "Python 3 (ipykernel)",
   "language": "python",
   "name": "python3"
  },
  "language_info": {
   "codemirror_mode": {
    "name": "ipython",
    "version": 3
   },
   "file_extension": ".py",
   "mimetype": "text/x-python",
   "name": "python",
   "nbconvert_exporter": "python",
   "pygments_lexer": "ipython3",
   "version": "3.11.5"
  }
 },
 "nbformat": 4,
 "nbformat_minor": 5
}
