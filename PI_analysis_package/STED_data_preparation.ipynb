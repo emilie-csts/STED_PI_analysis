{
 "cells": [
  {
   "cell_type": "markdown",
   "id": "3a25df1d-ea50-401e-9409-83e619b4642d",
   "metadata": {},
   "source": [
    "# STED data preparation\n",
    "\n",
    "This notebook is to automatically change the names of a all files in a folder (to simplify them). Then use a macro written in ImageJ to only open the required stacks (STED images) and save them accordingly.\n",
    "\n",
    "---\n",
    "\n"
   ]
  },
  {
   "cell_type": "code",
   "execution_count": 4,
   "id": "3cf5227a-74d0-4509-a89b-8bdcb203ade7",
   "metadata": {},
   "outputs": [],
   "source": [
    "## Rename files\n",
    "\n",
    "import os\n",
    "\n",
    "path = '/Users/christine/Documents/Data/STED/Raw_data/'\n",
    "Folder = ['220819','220817_Elys','220817_Nup96']\n",
    "for k in range(2,3): #len(Folder)):\n",
    "    files = os.listdir(path+Folder[k])\n",
    "\n",
    "    for i in range(0,len(files)):\n",
    "        old_name = files[i]\n",
    "        new_name = old_name.replace('IF_Cells_U20S_fixed_Nup96-GFP_POM121(200)-Star460L_mAb414(500)-Star580_X4(200)-Star635P-', Folder[k]+'_')\n",
    "        os.rename(path+Folder[k]+'/'+old_name,path+Folder[k]+'/'+new_name )\n",
    "\n",
    "    \n",
    "    "
   ]
  },
  {
   "cell_type": "code",
   "execution_count": null,
   "id": "16682b6f-2a78-40d4-b460-0deedc40f33e",
   "metadata": {},
   "outputs": [],
   "source": []
  }
 ],
 "metadata": {
  "kernelspec": {
   "display_name": "Python 3 (ipykernel)",
   "language": "python",
   "name": "python3"
  },
  "language_info": {
   "codemirror_mode": {
    "name": "ipython",
    "version": 3
   },
   "file_extension": ".py",
   "mimetype": "text/x-python",
   "name": "python",
   "nbconvert_exporter": "python",
   "pygments_lexer": "ipython3",
   "version": "3.11.5"
  }
 },
 "nbformat": 4,
 "nbformat_minor": 5
}
