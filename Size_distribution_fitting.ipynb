{
 "cells": [
  {
   "cell_type": "markdown",
   "metadata": {},
   "source": [
    "# Pore intermediates size distribution analysis\n",
    "\n",
    "\n",
    "\n",
    "\n",
    "| Date started | Date completed | Experiments analyzed | Comments |\n",
    "|:---|:---|:---|:----|\n",
    "|09/08/2022|  |  | Fitting size histograms with several gaussians, but this may be optimized |\n",
    "\n",
    "\n",
    "---"
   ]
  },
  {
   "cell_type": "markdown",
   "metadata": {},
   "source": [
    "## Goal:\n",
    "\n",
    "From STED images, one can determine size of pore intermediates (POM121 only detection + Gaussian fitting => size of the assembly = FWHM) - *so far, this is done in a Matlab program...*\n",
    "\n",
    "One can build size distributions in different conditions (cells transfected with siRNAs against different Nups or scrambled siRNA) - *so far, this is done in a Matlab program...*\n",
    "\n",
    "Several peaks are visible in the distribution. They most likely correspond to populations of PI at different stages of assembly. Qualitatively, these peaks vary depending on the conditions. We would like to quantify this.\n",
    "\n",
    "\n",
    "**Our idea:**\n",
    "1. fit the distribution curves with several gaussians (probably 3-4). Each Gaussian would correspond to limiting step.\n",
    "2. quantify the percentage of pore intermediates in each step.\n",
    "3. quantify how this repartition changes depending on the condition.\n",
    "    \n",
    "\n",
    "**Questions:**\n",
    "- how do we know the number of gaussians is apropriate ?\n",
    "- should we fix the position of the peaks ?\n",
    "- the data is right-skewed because of the resolution limit and/or the px size... => should we use other distribution functions (like lognormal for instance) - and if yes, should we use this model for all peaks or only the first one ?\n",
    "- **how do we evaluate our fit ?**\n",
    "\n",
    "\n",
    "---\n",
    "\n",
    "\n",
    "## Table of content\n",
    "\n",
    "* [Import libraries and data](#import)\n",
    "\n",
    "* [Define the fitting function and fit](#function)\n",
    "\n",
    "\n",
    "---\n",
    "\n",
    "\n",
    "## Import libraries and data <a class=\"anchor\" id=\"import\"></a>\n"
   ]
  },
  {
   "cell_type": "code",
   "execution_count": 1,
   "metadata": {},
   "outputs": [],
   "source": [
    "from scipy.optimize import curve_fit\n",
    "import numpy as np\n",
    "import matplotlib.pyplot as plt\n",
    "\n",
    "\n",
    "\n",
    "\n"
   ]
  },
  {
   "cell_type": "code",
   "execution_count": null,
   "metadata": {},
   "outputs": [],
   "source": [
    "\n",
    "InputFolder = \n",
    "OutputFolder = \n",
    "\n",
    "data = np.loadtxt(InputFolder+'data.txt', delimiter=',')\n",
    "x, y = data\n",
    "\n",
    "plt.plot(x,y)\n",
    "plt.show()"
   ]
  },
  {
   "cell_type": "markdown",
   "metadata": {},
   "source": [
    "---\n",
    "\n",
    "## Define the fitting function and fit <a class=\"anchor\" id=\"function\"></a>"
   ]
  },
  {
   "cell_type": "code",
   "execution_count": 4,
   "metadata": {},
   "outputs": [],
   "source": [
    "\n",
    "def func(x, *params):\n",
    "    y = np.zeros_like(x)\n",
    "    for i in range(0, len(params), 3):\n",
    "        ctr = params[i]\n",
    "        amp = params[i+1]\n",
    "        wid = params[i+2]\n",
    "        y = y + amp * np.exp( -((x - ctr)/wid)**2)\n",
    "    return y\n"
   ]
  },
  {
   "cell_type": "code",
   "execution_count": 12,
   "metadata": {},
   "outputs": [
    {
     "data": {
      "image/png": "[encoded data removed]",
      "text/plain": [
       "<Figure size 432x288 with 1 Axes>"
      ]
     },
     "metadata": {
      "needs_background": "light"
     },
     "output_type": "display_data"
    },
    {
     "name": "stdout",
     "output_type": "stream",
     "text": [
      "[ 0.          0.1010101   0.2020202   0.3030303   0.4040404   0.50505051\n",
      "  0.60606061  0.70707071  0.80808081  0.90909091  1.01010101  1.11111111\n",
      "  1.21212121  1.31313131  1.41414141  1.51515152  1.61616162  1.71717172\n",
      "  1.81818182  1.91919192  2.02020202  2.12121212  2.22222222  2.32323232\n",
      "  2.42424242  2.52525253  2.62626263  2.72727273  2.82828283  2.92929293\n",
      "  3.03030303  3.13131313  3.23232323  3.33333333  3.43434343  3.53535354\n",
      "  3.63636364  3.73737374  3.83838384  3.93939394  4.04040404  4.14141414\n",
      "  4.24242424  4.34343434  4.44444444  4.54545455  4.64646465  4.74747475\n",
      "  4.84848485  4.94949495  5.05050505  5.15151515  5.25252525  5.35353535\n",
      "  5.45454545  5.55555556  5.65656566  5.75757576  5.85858586  5.95959596\n",
      "  6.06060606  6.16161616  6.26262626  6.36363636  6.46464646  6.56565657\n",
      "  6.66666667  6.76767677  6.86868687  6.96969697  7.07070707  7.17171717\n",
      "  7.27272727  7.37373737  7.47474747  7.57575758  7.67676768  7.77777778\n",
      "  7.87878788  7.97979798  8.08080808  8.18181818  8.28282828  8.38383838\n",
      "  8.48484848  8.58585859  8.68686869  8.78787879  8.88888889  8.98989899\n",
      "  9.09090909  9.19191919  9.29292929  9.39393939  9.49494949  9.5959596\n",
      "  9.6969697   9.7979798   9.8989899  10.        ] [2.25070349e-005 1.08763672e-004 4.84395881e-004 1.98823644e-003\n",
      " 7.52119111e-003 2.62214211e-002 8.42513430e-002 2.49487302e-001\n",
      " 6.80880767e-001 1.71255565e+000 3.96980639e+000 8.48095905e+000\n",
      " 1.66982751e+001 3.03004630e+001 5.06731526e+001 7.81011791e+001\n",
      " 1.10940026e+002 1.45234549e+002 1.75227646e+002 1.94843677e+002\n",
      " 1.99673769e+002 1.88584815e+002 1.64150962e+002 1.31683436e+002\n",
      " 9.73576030e+001 6.63375768e+001 4.16581846e+001 2.41097154e+001\n",
      " 1.28598183e+001 6.32162296e+000 2.86400224e+000 1.19582911e+000\n",
      " 4.60167452e-001 1.63197567e-001 5.33411616e-002 1.60680163e-002\n",
      " 4.46080322e-003 1.14133957e-003 2.69133456e-004 5.84886382e-005\n",
      " 1.17145696e-005 2.16238077e-006 3.67865459e-007 5.76762292e-008\n",
      " 8.33404253e-009 1.10985329e-009 1.36215472e-010 1.54077177e-011\n",
      " 1.60620580e-012 1.54317464e-013 1.36640666e-014 1.11505392e-015\n",
      " 8.38615284e-017 5.81273715e-018 3.71321079e-019 2.18609750e-020\n",
      " 1.18615231e-021 5.93147080e-023 2.73360236e-024 1.16107237e-025\n",
      " 4.54500378e-027 1.63968420e-028 5.45176570e-030 1.67057185e-031\n",
      " 4.71785015e-033 1.22793148e-034 2.94547355e-036 6.51159124e-038\n",
      " 1.32669209e-039 2.49117453e-041 4.31111072e-043 6.87583117e-045\n",
      " 1.01067667e-046 1.36914764e-048 1.70938280e-050 1.96688688e-052\n",
      " 2.08578934e-054 2.03850843e-056 1.83613912e-058 1.52422705e-060\n",
      " 1.16612405e-062 8.22225316e-065 5.34303408e-067 3.19989738e-069\n",
      " 1.76618081e-071 8.98432144e-074 4.21198104e-076 1.81986235e-078\n",
      " 7.24672328e-081 2.65947445e-083 8.99499599e-086 2.80386521e-088\n",
      " 8.05497685e-091 2.13266414e-093 5.20393238e-096 1.17028551e-098\n",
      " 2.42550972e-101 4.63303110e-104 8.15602257e-107 1.32325221e-109]\n"
     ]
    }
   ],
   "source": [
    "x=np.linspace(0,10,100)\n",
    "\n",
    "params = [2,100,0.5,2,100,0.5]\n",
    "\n",
    "y=func(x,*params)\n",
    "fig,ax=plt.subplots()\n",
    "ax.plot(x,y)\n",
    "plt.show()\n",
    "\n",
    "print(x,y)\n",
    "\n"
   ]
  },
  {
   "cell_type": "code",
   "execution_count": null,
   "metadata": {},
   "outputs": [],
   "source": [
    "\n",
    "## initial guess\n",
    "import scipy.signal\n",
    "i_pk = scipy.signal.find_peaks_cwt(y, widths=range(3,len(x)//Npks))\n",
    "DX = (np.max(x)-np.min(x))/float(Npks) # starting guess for component width\n",
    "guess = np.ravel([[x[i], y[i], DX] for i in i_pk]) # starting guess for (x, amp, width) for each component\n",
    "\n",
    "## optimize fit\n",
    "popt, pcov = curve_fit(func, x, y, p0=guess)\n",
    "print popt\n",
    "fit = func(x, *popt)\n",
    "\n",
    "\n",
    "## plot original data and fit\n",
    "plt.plot(x, y)\n",
    "plt.plot(x, fit , 'r-')\n",
    "plt.show()\n"
   ]
  }
 ],
 "metadata": {
  "kernelspec": {
   "display_name": "Python 3",
   "language": "python",
   "name": "python3"
  },
  "language_info": {
   "codemirror_mode": {
    "name": "ipython",
    "version": 3
   },
   "file_extension": ".py",
   "mimetype": "text/x-python",
   "name": "python",
   "nbconvert_exporter": "python",
   "pygments_lexer": "ipython3",
   "version": "3.8.5"
  }
 },
 "nbformat": 4,
 "nbformat_minor": 4
}
