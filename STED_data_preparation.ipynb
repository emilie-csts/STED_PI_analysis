{
 "cells": [
  {
   "cell_type": "markdown",
   "metadata": {},
   "source": [
    "# Preparation of STED data for analysis\n",
    "\n",
    "\n",
    "\n",
    "\n",
    "| Date started | Date completed | Experiments treated | Comments |\n",
    "|:---|:---|:---|:----|\n",
    "|09/08/2022|  | 200310<br>200604<br>200617<br>200619<br>200622<br>200623<br>200624<br>200706<br>200707<br>200715<br>200723<br>200811<br>200812 | extracting STED data from .msr files, changing names to explicit information <br><br> original files are in /Data/STED/Raw_data|\n",
    "\n",
    "\n",
    "---\n",
    "\n",
    "## Goal\n",
    "\n",
    "the goal is to automatize the following actions:\n",
    "- rename all files so that they contain explicit information (date, condition)\n",
    "\n",
    "---\n",
    "\n"
   ]
  },
  {
   "cell_type": "code",
   "execution_count": 9,
   "metadata": {},
   "outputs": [],
   "source": [
    "## Rename files\n",
    "\n",
    "import os\n",
    "\n",
    "path = '/Users/christine/Documents/Data/STED/Raw_data/'\n",
    "Folder = ['200811','200812']\n",
    "for k in range(0,len(Folder)):\n",
    "    files = os.listdir(path+Folder[k])\n",
    "\n",
    "\n",
    "\n",
    "    for i in range(0,len(files)):\n",
    "        old_name = files[i]\n",
    "        new_name = old_name.replace('IF_Cells_U20S_fixed_Nup96-GFP_mAb414(500)-Star580_POM121(200)-StarRED(200)-', Folder[k]+'_')\n",
    "        os.rename(path+Folder[k]+'/'+old_name,path+Folder[k]+'/'+new_name )\n",
    "\n",
    "    \n",
    "    "
   ]
  },
  {
   "cell_type": "markdown",
   "metadata": {},
   "source": [
    "Then I need to open the .msr files in ImageJ (not suitable in Python) and save only the 2 STED files corresponding to the POM121 and 414 channels\n",
    "\n",
    "=> to automate that, I wrote an ImageJ macro (/Users/christine/Documents/Data/STED/Raw_data/LoadNSave_STED_data.ijm)\n",
    "\n"
   ]
  }
 ],
 "metadata": {
  "kernelspec": {
   "display_name": "Python 3",
   "language": "python",
   "name": "python3"
  },
  "language_info": {
   "codemirror_mode": {
    "name": "ipython",
    "version": 3
   },
   "file_extension": ".py",
   "mimetype": "text/x-python",
   "name": "python",
   "nbconvert_exporter": "python",
   "pygments_lexer": "ipython3",
   "version": "3.8.5"
  }
 },
 "nbformat": 4,
 "nbformat_minor": 4
}
